{
 "cells": [
  {
   "cell_type": "markdown",
   "metadata": {},
   "source": [
    "# Retrieve World Bank Trade Data\n",
    "\n",
    "Data comes from [https://wits.worldbank.org/witsapiintro.aspx]\n",
    "\n",
    "Prereqs:\n",
    "* Need to run \"pip install pandaSDMX\" to install parser to read SDMX data from a request"
   ]
  },
  {
   "cell_type": "code",
   "execution_count": null,
   "metadata": {},
   "outputs": [],
   "source": [
    "from pandasdmx import Request\n",
    "import json\n",
    "from pprint import pprint as pp\n",
    "import pandas as pd\n",
    "import numpy as np"
   ]
  },
  {
   "cell_type": "code",
   "execution_count": null,
   "metadata": {},
   "outputs": [],
   "source": [
    "wits = Request('WBG_WITS')\n",
    "flow_response = wits.dataflow()\n",
    "flow_response.write().dataflow.head()"
   ]
  },
  {
   "cell_type": "code",
   "execution_count": null,
   "metadata": {},
   "outputs": [],
   "source": [
    "trade_stats = wits.dataflow('DF_WITS_TradeStats_Trade')"
   ]
  },
  {
   "cell_type": "code",
   "execution_count": null,
   "metadata": {},
   "outputs": [],
   "source": [
    "trade_data_structure = trade_stats.dataflow.DF_WITS_TradeStats_Trade.structure()\n",
    "trade_data_structure"
   ]
  },
  {
   "cell_type": "code",
   "execution_count": null,
   "metadata": {},
   "outputs": [],
   "source": [
    "trade_data_structure.dimensions.aslist()"
   ]
  },
  {
   "cell_type": "markdown",
   "metadata": {},
   "source": [
    "Only interested in trade with the US"
   ]
  },
  {
   "cell_type": "code",
   "execution_count": null,
   "metadata": {},
   "outputs": [],
   "source": [
    "reporters = trade_stats.write().codelist.loc['REPORTER']\n",
    "select_reporter = reporters.loc[['USA']]\n",
    "select_reporter"
   ]
  },
  {
   "cell_type": "markdown",
   "metadata": {},
   "source": [
    "Looking for specific trade partners: Mexico, Canada, EU, China, Russia, World. We limit the definition of the EU to just the 11 countries that adopted the Euro as their currency in 1999.  I tried to use the partner code 'EUN' but there is no data in the with that partner code."
   ]
  },
  {
   "cell_type": "code",
   "execution_count": null,
   "metadata": {},
   "outputs": [],
   "source": [
    "partners = trade_stats.write().codelist.loc['PARTNER']\n",
    "\n",
    "#for index, row in partners.iterrows():\n",
    "#    print(f\"'{index}':\\t\\t'{row['name']}'\")\n",
    "\n",
    "# Countries we are interested\n",
    "partner_list = ['MEX','CAN','CHN','RUS']\n",
    "          \n",
    "# Countries which adopted the Euro as their currency in 1999\n",
    "eu_list = ['AUT','BEL','FIN','FRA','DEU','IRL','ITA','LUX','NLD','PRT','ESP']\n",
    "          \n",
    "# Separate list for the lonely total partner representing the world 'WLD'\n",
    "world_list = ['WLD']\n",
    "          \n",
    "select_partners = partners.loc[partner_list + eu_list + world_list]\n",
    "select_partners"
   ]
  },
  {
   "cell_type": "markdown",
   "metadata": {},
   "source": [
    "Only product we are interested in is \"all products\" i.e. 'Total'"
   ]
  },
  {
   "cell_type": "code",
   "execution_count": null,
   "metadata": {},
   "outputs": [],
   "source": [
    "products = trade_stats.write().codelist.loc['PRODUCTCODE']\n",
    "\n",
    "#for index, row in products.iterrows():\n",
    "#    print(f\"'{index}':\\t\\t'{row['name']}'\")\n",
    "\n",
    "select_product = products.loc[['Total']]\n",
    "select_product"
   ]
  },
  {
   "cell_type": "markdown",
   "metadata": {},
   "source": [
    "Only looking for the import and export values. All values for these two indicators are in thousands of USD."
   ]
  },
  {
   "cell_type": "code",
   "execution_count": null,
   "metadata": {},
   "outputs": [],
   "source": [
    "indicators = trade_stats.write().codelist.loc['INDICATOR']\n",
    "\n",
    "#for index, row in indicators.iterrows():\n",
    "#    print(f\"'{index}':\\t\\t'{row['name']}'\")\n",
    "\n",
    "select_indicators = indicators.loc[['MPRT-TRD-VL', 'XPRT-TRD-VL']]\n",
    "select_indicators"
   ]
  },
  {
   "cell_type": "markdown",
   "metadata": {},
   "source": [
    "Only time frequency is 'annual'."
   ]
  },
  {
   "cell_type": "code",
   "execution_count": null,
   "metadata": {},
   "outputs": [],
   "source": [
    "trade_stats.write().codelist.loc['FREQ'].head()"
   ]
  },
  {
   "cell_type": "code",
   "execution_count": null,
   "metadata": {},
   "outputs": [],
   "source": [
    "freq = 'A'\n",
    "partners_list = select_partners.index.tolist()\n",
    "reporter = select_reporter.index.tolist()[0]\n",
    "product = select_product.index.tolist()[0]\n",
    "indicator_list = select_indicators.index.tolist()\n",
    "\n",
    "response = wits.data(resource_id = 'DF_WITS_TradeStats_Trade',\n",
    "                 key={'FREQ': freq,\n",
    "                      'REPORTER': reporter,\n",
    "                      'PARTNER':  partners_list,\n",
    "                      'PRODUCTCODE': product,\n",
    "                      'INDICATOR': indicator_list},\n",
    "                 params = {'startPeriod': '2000',\n",
    "                           'endPeriod': '2017'},\n",
    "                 dsd = trade_data_structure)"
   ]
  },
  {
   "cell_type": "code",
   "execution_count": null,
   "metadata": {},
   "outputs": [],
   "source": [
    "print(f\"dim_at_obs: {response.data.dim_at_obs}\")\n",
    "trade_df = response.write((s for s in response.data.series))\n",
    "trade_df.rename(columns={'MPRT-TRD-VL': 'Imports', 'XPRT-TRD-VL': 'Exports'}, inplace=True)\n",
    "\n",
    "import_columns_to_sum = [ ('A', 'USA', cty, 'Total', 'Imports') for cty in eu_list ]\n",
    "import_column_eu = ('A', 'USA', 'EU', 'Total', 'Imports')\n",
    "trade_df[import_column_eu] = trade_df[import_columns_to_sum].sum(axis=1)\n",
    "trade_df.drop(import_columns_to_sum, axis=1, inplace=True)\n",
    "\n",
    "export_columns_to_sum = [ ('A', 'USA', cty, 'Total', 'Exports') for cty in eu_list ]\n",
    "export_column_eu = ('A', 'USA', 'EU', 'Total', 'Exports')\n",
    "trade_df[export_column_eu] = trade_df[export_columns_to_sum].sum(axis=1)\n",
    "trade_df.drop(export_columns_to_sum, axis=1, inplace=True)\n",
    "\n",
    "known_cty_list = partner_list + [ 'EU' ]\n",
    "\n",
    "known_import_columns_to_sum = [ ('A', 'USA', cty, 'Total', 'Imports') for cty in known_cty_list ]\n",
    "import_column_other = ('A', 'USA', 'Other', 'Total', 'Imports')\n",
    "import_column_world = ('A', 'USA', 'WLD', 'Total', 'Imports')\n",
    "trade_df[import_column_other] = trade_df[import_column_world] - trade_df[known_import_columns_to_sum].sum(axis=1)\n",
    "\n",
    "known_export_columns_to_sum = [ ('A', 'USA', cty, 'Total', 'Exports') for cty in known_cty_list ]\n",
    "export_column_other = ('A', 'USA', 'Other', 'Total', 'Exports')\n",
    "export_column_world = ('A', 'USA', 'WLD', 'Total', 'Exports')\n",
    "trade_df[export_column_other] = trade_df[export_column_world] - trade_df[known_export_columns_to_sum].sum(axis=1)\n",
    "\n",
    "trade_df.head()"
   ]
  },
  {
   "cell_type": "code",
   "execution_count": null,
   "metadata": {},
   "outputs": [],
   "source": [
    "# This line commented below should have worked but it doesn't.  You cannot use\n",
    "# rename to rename columns with tuple names.  I had to use something a little\n",
    "# more dangerous by explicitly set the columns attribute of the DataFrame\n",
    "\n",
    "#new_column_names = { x: f\"{x[2]}_{x[4]}\" for x in list(trade_df) }\n",
    "#trade_df.rename(columns=new_column_names, inplace=True)\n",
    "\n",
    "trade_df.columns = [f\"{x[2]}_{x[4]}\" for x in trade_df.columns]\n",
    "trade_df.head()"
   ]
  },
  {
   "cell_type": "code",
   "execution_count": null,
   "metadata": {},
   "outputs": [],
   "source": [
    "new_partner_list = [\"CAN\",\"CHN\",\"MEX\",\"RUS\",\"WLD\",\"EU\",\"Other\"]\n",
    "\n",
    "partner_import_cols = [f\"{s}_Imports\" for s in new_partner_list]\n",
    "partner_export_cols = [f\"{s}_Exports\" for s in new_partner_list]\n",
    "for p in new_partner_list:\n",
    "    trade_df[f\"{p}_Diff\"] = trade_df[f\"{p}_Imports\"] - trade_df[f\"{p}_Exports\"]\n",
    "trade_df.head()"
   ]
  },
  {
   "cell_type": "code",
   "execution_count": null,
   "metadata": {},
   "outputs": [],
   "source": [
    "for p in new_partner_list:\n",
    "    trade_df[f\"{p}_Scale\"] = trade_df[f\"{p}_Diff\"] / trade_df[f\"{p}_Exports\"]\n",
    "trade_df.head()"
   ]
  },
  {
   "cell_type": "markdown",
   "metadata": {},
   "source": [
    "So we could use trade_df as our data file or convert the file with partner as a column.  Converting trade_df to trade2_df\n",
    "to make it easier for tools like Tableau (or Group by's in Pandas)"
   ]
  },
  {
   "cell_type": "code",
   "execution_count": null,
   "metadata": {},
   "outputs": [],
   "source": [
    "trade2_df = pd.DataFrame(columns=['Year', 'Partner', 'Imports', 'Exports'])\n",
    "\n",
    "for idx, value in trade_df.iterrows():\n",
    "    year_list = []\n",
    "    for partner in new_partner_list:\n",
    "        partner_imports = f\"{partner}_Imports\"\n",
    "        partner_exports = f\"{partner}_Exports\"\n",
    "        year_list.append({\n",
    "            'Year': idx,\n",
    "            'Partner': partner,\n",
    "            'Imports': value[partner_imports],\n",
    "            'Exports': value[partner_exports]\n",
    "        })\n",
    "    trade2_df = trade2_df.append(year_list)\n",
    "trade2_df.head()"
   ]
  },
  {
   "cell_type": "markdown",
   "metadata": {},
   "source": [
    "Now let's save the data as JSON so that we do not have to repeatedly make API calls to retrieve the data."
   ]
  },
  {
   "cell_type": "code",
   "execution_count": null,
   "metadata": {},
   "outputs": [],
   "source": [
    "trade_csv = trade_df.to_csv()\n",
    "\n",
    "# now write output to a file\n",
    "with open('trade_data_file.csv', 'w') as outfile:\n",
    "    outfile.write(trade_csv)"
   ]
  }
 ],
 "metadata": {
  "kernelspec": {
   "display_name": "Python 3",
   "language": "python",
   "name": "python3"
  },
  "language_info": {
   "codemirror_mode": {
    "name": "ipython",
    "version": 3
   },
   "file_extension": ".py",
   "mimetype": "text/x-python",
   "name": "python",
   "nbconvert_exporter": "python",
   "pygments_lexer": "ipython3",
   "version": "3.6.7"
  }
 },
 "nbformat": 4,
 "nbformat_minor": 2
}
